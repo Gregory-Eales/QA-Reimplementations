{
 "cells": [
  {
   "cell_type": "code",
   "execution_count": 22,
   "metadata": {},
   "outputs": [],
   "source": [
    "import qutip\n",
    "import random\n",
    "from matplotlib import pyplot as plt"
   ]
  },
  {
   "cell_type": "code",
   "execution_count": 26,
   "metadata": {},
   "outputs": [],
   "source": [
    "class Electron(object):\n",
    "    \n",
    "    def __init__(self):\n",
    "        \n",
    "        self.hardness = random.randrange(0, 2, 1)\n",
    "        self.color = random.randrange(0, 2, 1)\n",
    "        \n",
    "    def get_color(self):\n",
    "        self.hardness = random.randrange(0, 2, 1)\n",
    "        return self.color\n",
    "    \n",
    "    def get_hardness(self):\n",
    "        self.color = random.randrange(0, 2, 1)\n",
    "        return self.hardness\n"
   ]
  },
  {
   "cell_type": "code",
   "execution_count": 45,
   "metadata": {},
   "outputs": [],
   "source": [
    "class ColorBox(object):\n",
    "    \n",
    "    def __init__(self):\n",
    "        pass\n",
    "    \n",
    "    def get_white(self, electrons):\n",
    "        white_electrons = []\n",
    "        for e in electrons:\n",
    "            if e.get_color() == 1:\n",
    "                white_electrons.append(e)\n",
    "        return white_electrons\n",
    "    \n",
    "    def get_black(self, electrons):\n",
    "        black_electrons = []\n",
    "        for e in electrons:\n",
    "            if e.get_color() == 0:\n",
    "                black_electrons.append(e)\n",
    "        return black_electrons"
   ]
  },
  {
   "cell_type": "code",
   "execution_count": 58,
   "metadata": {},
   "outputs": [],
   "source": [
    "class HardnessBox(object):\n",
    "    \n",
    "    def __init__(self):\n",
    "        pass\n",
    "    \n",
    "    def get_hard(self, electrons):\n",
    "        hard_electrons = []\n",
    "        for e in electrons:\n",
    "            if e.get_hardness() == 1:\n",
    "                hard_electrons.append(e)\n",
    "        return hard_electrons\n",
    "    \n",
    "    def get_soft(self, electrons):\n",
    "        soft_electrons = []\n",
    "        for e in electrons:\n",
    "            if e.get_hardness() == 0:\n",
    "                soft_electrons.append(e)\n",
    "        return soft_electrons"
   ]
  },
  {
   "cell_type": "code",
   "execution_count": 75,
   "metadata": {},
   "outputs": [],
   "source": [
    "def experiment1():\n",
    "    cb = ColorBox()\n",
    "    hb = HardnessBox()\n",
    "    electrons = []\n",
    "    for i in range(100000):\n",
    "        electrons.append(Electron())\n",
    "    white_electrons = cb.get_white(electrons)\n",
    "    black_electrons = cb.get_black(electrons)\n",
    "    \n",
    "    soft_black_electrons = hb.get_soft(black_electrons)\n",
    "    hard_black_electrons = hb.get_hard(black_electrons)\n",
    "    soft_white_electrons = hb.get_soft(white_electrons)\n",
    "    hard_white_electrons = hb.get_hard(white_electrons)\n",
    "    \n",
    "    print(\"Percentage of Soft-Black Electrons: \", len(100*soft_black_electrons)/100000, \"%\")\n",
    "    print(\"Percentage of Hard-Black Electrons: \", len(100*hard_black_electrons)/100000, \"%\")\n",
    "    print(\"Percentage of Soft-White Electrons: \", len(100*soft_white_electrons)/100000, \"%\")\n",
    "    print(\"Percentage of Hard-White Electrons: \", len(100*hard_white_electrons)/100000, \"%\")"
   ]
  },
  {
   "cell_type": "code",
   "execution_count": 76,
   "metadata": {},
   "outputs": [
    {
     "name": "stdout",
     "output_type": "stream",
     "text": [
      "Percentage of Soft-Black Electrons:  25.345 %\n",
      "Percentage of Hard-Black Electrons:  24.916 %\n",
      "Percentage of Soft-White Electrons:  24.541 %\n",
      "Percentage of Hard-White Electrons:  25.198 %\n"
     ]
    }
   ],
   "source": [
    "experiment1()"
   ]
  },
  {
   "cell_type": "code",
   "execution_count": null,
   "metadata": {},
   "outputs": [],
   "source": []
  }
 ],
 "metadata": {
  "kernelspec": {
   "display_name": "VPython",
   "language": "python",
   "name": "vpython"
  },
  "language_info": {
   "codemirror_mode": {
    "name": "ipython",
    "version": 3
   },
   "file_extension": ".py",
   "mimetype": "text/x-python",
   "name": "python",
   "nbconvert_exporter": "python",
   "pygments_lexer": "ipython3",
   "version": "3.6.9"
  }
 },
 "nbformat": 4,
 "nbformat_minor": 2
}
