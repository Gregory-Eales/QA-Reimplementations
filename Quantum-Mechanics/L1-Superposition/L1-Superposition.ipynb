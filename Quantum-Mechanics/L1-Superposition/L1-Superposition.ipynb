{
 "cells": [
  {
   "cell_type": "code",
   "execution_count": 11,
   "metadata": {},
   "outputs": [],
   "source": [
    "import qutip\n",
    "import random"
   ]
  },
  {
   "cell_type": "code",
   "execution_count": 17,
   "metadata": {},
   "outputs": [],
   "source": [
    "class Electron(object):\n",
    "    \n",
    "    def __init__(self, hardness=0, color=0):\n",
    "        \n",
    "        self.hardness = hardness\n",
    "        self.color = color\n",
    "        \n",
    "    def get_color(self):\n",
    "        self.hardness = random.randrange(0, 2, 1)\n",
    "        return self.color\n",
    "    \n",
    "    def get_hardness(self):\n",
    "        self.color = random.randrange(0, 2, 1)\n",
    "        return self.hardness\n"
   ]
  },
  {
   "cell_type": "code",
   "execution_count": 18,
   "metadata": {},
   "outputs": [],
   "source": [
    "class HardnessBox(object):\n",
    "    \n",
    "    def __init__(self):\n",
    "        pass"
   ]
  },
  {
   "cell_type": "code",
   "execution_count": 19,
   "metadata": {},
   "outputs": [],
   "source": [
    "class ColorBox(object):\n",
    "    \n",
    "    def __init__(self):\n",
    "        pass\n",
    "    \n",
    "    def get_white(self, electrons):\n",
    "        white_electrons = []\n",
    "        for e in electrons:\n",
    "            if e.getcolor == 1:\n",
    "                white_electron.append(e)\n",
    "        return white_electrons\n",
    "    \n",
    "    def get_black(self, electrons):\n",
    "        black_electrons = []\n",
    "        for e in electrons:\n",
    "            if e.get_color() == 0:\n",
    "                black_electron.append(e)\n",
    "        return black_electrons"
   ]
  },
  {
   "cell_type": "code",
   "execution_count": 8,
   "metadata": {},
   "outputs": [],
   "source": [
    "class HardnessBox(object):\n",
    "    \n",
    "    def __init__(self):\n",
    "        pass\n",
    "    \n",
    "    def get_hard(self, electrons):\n",
    "        hard_electrons = []\n",
    "        for e in electrons:\n",
    "            if e.color == 1:\n",
    "                hard_electron.append(e)\n",
    "        return hard_electrons\n",
    "    \n",
    "    def get_soft(self, electrons):\n",
    "        soft_electrons = []\n",
    "        for e in electrons:\n",
    "            if e.color == 0:\n",
    "                soft_electron.append(e)\n",
    "        return soft_electrons"
   ]
  },
  {
   "cell_type": "code",
   "execution_count": null,
   "metadata": {},
   "outputs": [],
   "source": []
  }
 ],
 "metadata": {
  "kernelspec": {
   "display_name": "VPython",
   "language": "python",
   "name": "vpython"
  },
  "language_info": {
   "codemirror_mode": {
    "name": "ipython",
    "version": 3
   },
   "file_extension": ".py",
   "mimetype": "text/x-python",
   "name": "python",
   "nbconvert_exporter": "python",
   "pygments_lexer": "ipython3",
   "version": "3.6.9"
  }
 },
 "nbformat": 4,
 "nbformat_minor": 2
}
